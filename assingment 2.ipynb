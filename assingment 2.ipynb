{
 "cells": [
  {
   "cell_type": "code",
   "execution_count": 10,
   "id": "6fe9e222-5f5b-4df0-99d7-191acdb34816",
   "metadata": {},
   "outputs": [
    {
     "data": {
      "text/plain": [
       "97"
      ]
     },
     "execution_count": 10,
     "metadata": {},
     "output_type": "execute_result"
    }
   ],
   "source": [
    "#Q1. How do you comment code in Python? What are the different types of comments?\n",
    "#In Python, you can add comments to your code to provide explanations, notes, or annotations that are not executed as part of the program. Comments are useful for making your code more readable and for explaining the logic behind your code to yourself and others.\n",
    "\n",
    "#There are two main types of comments in Python:\n",
    "\n",
    "#Single-line comments: These are comments that appear on a single line and are used to provide a brief explanation or note about a specific line of code.\n",
    "#example:\n",
    "a=8\n",
    "b=89\n",
    "a+b\n"
   ]
  },
  {
   "cell_type": "code",
   "execution_count": null,
   "id": "0c06fda3-96e1-4e54-a3b9-b5bc0057b0fa",
   "metadata": {},
   "outputs": [],
   "source": []
  },
  {
   "cell_type": "code",
   "execution_count": 14,
   "id": "29566808-6814-4299-9bb4-944ee896fb66",
   "metadata": {},
   "outputs": [
    {
     "data": {
      "text/plain": [
       "[3, 5, 7, 90, 78]"
      ]
     },
     "execution_count": 14,
     "metadata": {},
     "output_type": "execute_result"
    }
   ],
   "source": [
    "#Multi-line comments (docstrings): These are used for longer explanations, usually spanning multiple lines or\n",
    "#paragraphs. While they are not technically comments in the traditional sense, they are often used to document functions, classes, and modules.\n",
    "#example:\n",
    "p=[3,5,7,90]\n",
    "'''the append function is used to add elements in the list\n",
    "the append function adds the element at the end'''\n",
    "p.append(78)\n",
    "p"
   ]
  },
  {
   "cell_type": "code",
   "execution_count": 17,
   "id": "fc0f97ba-1f29-4a38-bea9-a1d45be4d5bb",
   "metadata": {},
   "outputs": [
    {
     "data": {
      "text/plain": [
       "780"
      ]
     },
     "execution_count": 17,
     "metadata": {},
     "output_type": "execute_result"
    }
   ],
   "source": [
    "#Q2. What are variables in Python? How do you declare and assign values to variables?\n",
    "#In Python, variables are used to store and manage data or values. They serve as symbolic names for values, allowing you to refer to those values by a name rather than their actual content. Variables can hold various types of data, such as numbers, strings, lists, and more.\n",
    "\n",
    "#To declare and assign values to variables in Python, you simply need to follow these steps:\n",
    "\n",
    "#Variable Declaration: Unlike some other programming languages, Python does not require explicit variable declaration. You can create a variable by directly assigning a value to it. For example:\n",
    "a=78\n",
    "\n",
    "#In Python, variables are used to store and manage data or values. They serve as symbolic names for values, allowing you to refer to those values by a name rather than their actual content. Variables can hold various types of data, such as numbers, strings, lists, and more.\n",
    "\n",
    "#To declare and assign values to variables in Python, you simply need to follow these steps:\n",
    "\n",
    "#Variable Declaration: Unlike some other programming languages, Python does not require explicit variable declaration. You can create a variable by directly assigning a value to it. For example:\n",
    "a=780\n",
    "a\n"
   ]
  },
  {
   "cell_type": "code",
   "execution_count": 18,
   "id": "a7219f63-b44b-42db-b029-ab6aa2636c20",
   "metadata": {},
   "outputs": [],
   "source": [
    "##Variable Naming Rules:\n",
    "#Variable names must start with a letter (a-z, A-Z) or an underscore _.\n",
    "#Subsequent characters can be letters, underscores, or digits (0-9).\n",
    "#Variable names are case-sensitive (my_variable and My_Variable are treated as different variables).\n",
    "#Avoid using reserved words as variable names (e.g., if, else, while, etc.).\n",
    "#Here are a few more examples of declaring and assigning values to variables:\n",
    "#example:\n",
    "tipp=89\n",
    "err=True"
   ]
  },
  {
   "cell_type": "code",
   "execution_count": 22,
   "id": "2fa5df34-0a71-4944-baa4-98f4128b246f",
   "metadata": {},
   "outputs": [
    {
     "data": {
      "text/plain": [
       "3.14"
      ]
     },
     "execution_count": 22,
     "metadata": {},
     "output_type": "execute_result"
    }
   ],
   "source": [
    "#Q3. How do you convert one data type to another in Python?\n",
    "#In Python, you can convert one data type to another using type conversion functions or methods. Here are some common ways to perform type conversion:\n",
    "\n",
    "#Integers and Floats:\n",
    "\n",
    "#To convert a float to an integer: Use the int() function. This truncates the decimal part.\n",
    "float_num = 3.14\n",
    "int_num = int(float_num)  # Converts 3.14 to 3\n",
    "float_num"
   ]
  },
  {
   "cell_type": "code",
   "execution_count": 24,
   "id": "8df3df92-2223-4361-afa2-f4d8a04f4cc7",
   "metadata": {},
   "outputs": [
    {
     "data": {
      "text/plain": [
       "89.0"
      ]
     },
     "execution_count": 24,
     "metadata": {},
     "output_type": "execute_result"
    }
   ],
   "source": [
    "#To convert an integer to a float: It's often not necessary, as Python does this automatically in many cases. But you can use the float() function.\n",
    "t=89\n",
    "i=float(t)\n",
    "i"
   ]
  },
  {
   "cell_type": "code",
   "execution_count": null,
   "id": "18540506-83a6-415e-987f-15e01d83fb93",
   "metadata": {},
   "outputs": [],
   "source": [
    "#Strings:\n",
    "\n",
    "#To convert a number to a string: Use the str() function.\n",
    "#int_num=89\n",
    "#str_num="
   ]
  },
  {
   "cell_type": "code",
   "execution_count": null,
   "id": "faf98b88-c1b7-4da3-a022-6bfce598568e",
   "metadata": {},
   "outputs": [],
   "source": [
    "#Q4. How do you write and execute a Python script from the command line?\n",
    "'''Writing and executing a Python script from the command line involves a few simple steps. Here's a guide to help you through the process:\n",
    "\n",
    "Step 1: Writing the Python Script\n",
    "\n",
    "Open a text editor of your choice (such as Notepad on Windows, nano on Linux/Mac, or a more advanced code editor like Visual Studio Code).\n",
    "Write your Python code in the text editor. \n",
    "For example:\n",
    "    print(\"Hello, World!\")\n",
    "Save the file with a .py extension. For instance, you can save it as hello.py.\n",
    "Step 2: Executing the Python Script\n",
    "\n",
    "Open a command-line interface (Command Prompt on Windows, Terminal on Linux/Mac).\n",
    "Navigate to the directory where you saved your Python script using the cd command. \n",
    "For example\n",
    "cd path/to/your/script/directory\n",
    "Once you're in the correct directory, you can execute the script using the python command followed by the script's filename. For example:\n",
    "python hello.py\n",
    "Press Enter, and the script will be executed. In this case, it will print \"Hello, World!\" to the command-line output.\n",
    "Additional Tips:\n",
    "\n",
    "Make sure you have Python installed on your system. You can check this by running python --version in the command line.\n",
    "If you have multiple versions of Python installed, you might need to use python3 instead of python to specify Python 3.\n",
    "You can use any text editor or integrated development environment (IDE) to write your Python scripts. IDEs like Visual Studio Code, PyCharm, or Jupyter Notebook offer additional features to enhance your coding experience.\n",
    "Remember that indentation is crucial in Python. Make sure your code is properly indented for it to run correctly.\n",
    "That's it! You've successfully written and executed a Python script from the command line.'''\n",
    "\n",
    "\n",
    "\n",
    "\n",
    "\n",
    "\n",
    "\n",
    "\n"
   ]
  },
  {
   "cell_type": "code",
   "execution_count": 3,
   "id": "3f75c08e-3cf3-479e-9542-5d3a9a01fb2a",
   "metadata": {},
   "outputs": [
    {
     "name": "stdout",
     "output_type": "stream",
     "text": [
      "[2, 3]\n"
     ]
    }
   ],
   "source": [
    "#Q5. Given a list my_list = [1, 2, 3, 4, 5], write the code to slice the list and obtain the sub-list [2, 3].\n",
    "my_list=[1,2,3,4,5]\n",
    "sub_list=my_list[1:3]\n",
    "print(sub_list)"
   ]
  },
  {
   "cell_type": "code",
   "execution_count": null,
   "id": "8298c454-9805-4099-999a-d73cb8ee724a",
   "metadata": {},
   "outputs": [],
   "source": [
    "#Q6. What is a complex number in mathematics, and how is it represented in Python?\n",
    "#compex number are the numbers having real and imaginary part \n",
    "#complex numbers are represented in the form of a+bj\n",
    "#for example :\n",
    "  #  5+8j"
   ]
  },
  {
   "cell_type": "code",
   "execution_count": 4,
   "id": "4bb3b9a0-1382-461b-8818-041594507bbd",
   "metadata": {},
   "outputs": [
    {
     "data": {
      "text/plain": [
       "25"
      ]
     },
     "execution_count": 4,
     "metadata": {},
     "output_type": "execute_result"
    }
   ],
   "source": [
    "#Q7. What is the correct way to declare a variable named age and assign the value 25 to it?\n",
    "age=25\n",
    "age"
   ]
  },
  {
   "cell_type": "code",
   "execution_count": 6,
   "id": "c9e4e1e7-4539-4fa8-9553-fdb00fbccbbd",
   "metadata": {},
   "outputs": [
    {
     "data": {
      "text/plain": [
       "9.99"
      ]
     },
     "execution_count": 6,
     "metadata": {},
     "output_type": "execute_result"
    }
   ],
   "source": [
    "#Q8. Declare a variable named price and assign the value 9.99 to it. What data type does this variable\n",
    "#belong to?\n",
    "price=9.99\n",
    "price\n",
    "#this variable belongs to float data type"
   ]
  },
  {
   "cell_type": "code",
   "execution_count": null,
   "id": "2caa07d3-7347-461f-8c19-bccf6c4daeb0",
   "metadata": {},
   "outputs": [],
   "source": [
    "#Q9. Create a variable named name and assign your full name to it as a string. How would you print the\n",
    "#value of this variable?\n",
    "name='nikhil'"
   ]
  },
  {
   "cell_type": "code",
   "execution_count": 12,
   "id": "8da543b7-c858-4388-b402-8fbe419cb4c2",
   "metadata": {},
   "outputs": [
    {
     "data": {
      "text/plain": [
       "'world!'"
      ]
     },
     "execution_count": 12,
     "metadata": {},
     "output_type": "execute_result"
    }
   ],
   "source": [
    "#Q10. Given the string \"Hello, World!\", extract the substring \"World\".\n",
    "p=['hello','world!']\n",
    "p[1]"
   ]
  },
  {
   "cell_type": "code",
   "execution_count": 15,
   "id": "9bacfbbf-735c-46f7-9f76-ff49404c1af2",
   "metadata": {},
   "outputs": [
    {
     "data": {
      "text/plain": [
       "True"
      ]
     },
     "execution_count": 15,
     "metadata": {},
     "output_type": "execute_result"
    }
   ],
   "source": [
    "#Q11. Create a variable named \"is_student\" and assign it a boolean value indicating whether you are\n",
    "#currently a student or not.\n",
    "is_student=True\n",
    "is_student"
   ]
  }
 ],
 "metadata": {
  "kernelspec": {
   "display_name": "Python 3 (ipykernel)",
   "language": "python",
   "name": "python3"
  },
  "language_info": {
   "codemirror_mode": {
    "name": "ipython",
    "version": 3
   },
   "file_extension": ".py",
   "mimetype": "text/x-python",
   "name": "python",
   "nbconvert_exporter": "python",
   "pygments_lexer": "ipython3",
   "version": "3.10.8"
  }
 },
 "nbformat": 4,
 "nbformat_minor": 5
}
