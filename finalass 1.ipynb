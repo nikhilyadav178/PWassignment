{
 "cells": [
  {
   "cell_type": "code",
   "execution_count": null,
   "id": "f80def66-1842-4099-a9c7-e455a5cc8d69",
   "metadata": {},
   "outputs": [],
   "source": [
    "Q1. Create one variable containing following type of data:\n",
    "(i) string\n",
    "(ii) list\n",
    "(iii) float\n",
    "(iv) tuple"
   ]
  },
  {
   "cell_type": "code",
   "execution_count": null,
   "id": "93452661-b86f-4501-b29a-2ac95746f6c2",
   "metadata": {},
   "outputs": [],
   "source": [
    "1. k='nikhil'\n",
    "2. l=[1,4,90.78,5+7j,True,'komal']\n",
    "3. h=789.89\n",
    "4. o=(1,3,'python',78.89,True,[67,90,65])"
   ]
  },
  {
   "cell_type": "code",
   "execution_count": 13,
   "id": "057209dc-43f1-4966-966f-8ed1134ce37f",
   "metadata": {},
   "outputs": [
    {
     "name": "stdout",
     "output_type": "stream",
     "text": [
      "<class 'str'>\n",
      "<class 'str'>\n",
      "<class 'list'>\n",
      "<class 'float'>\n"
     ]
    }
   ],
   "source": [
    "# Q2. Given are some following variables containing data:\n",
    "# (i) var1 = ' '\n",
    "# (ii) var2 = '[ DS , ML , Python]'\n",
    "# (iii) var3 = [ 'DS' , 'ML' , 'Python' ]\n",
    "# (iv) var4 = 1.\n",
    "# What will be the data type of the above given variable.\n",
    "\n",
    "var1 = ' '\n",
    "var2 = '[ DS , ML , Python]'\n",
    "var3 = [ 'DS' , 'ML' , 'Python' ]\n",
    "var4 = 1.\n",
    "print(type(var1))\n",
    "print(type(var2))\n",
    "print(type(var3))\n",
    "print(type(var4))"
   ]
  },
  {
   "cell_type": "code",
   "execution_count": null,
   "id": "831137ab-8efc-4713-967f-e7914ead9813",
   "metadata": {},
   "outputs": [],
   "source": []
  },
  {
   "cell_type": "code",
   "execution_count": null,
   "id": "ae85655a-3ca5-4264-8da5-920511900807",
   "metadata": {},
   "outputs": [],
   "source": [
    "Q3. Explain the use of the following operators using an example:\n",
    "(i) /\n",
    "(ii) %\n",
    "(iii) //\n",
    "(iv) **"
   ]
  },
  {
   "cell_type": "code",
   "execution_count": 11,
   "id": "02b871c6-6454-489b-bc09-d9667f8fe5a5",
   "metadata": {},
   "outputs": [
    {
     "name": "stdout",
     "output_type": "stream",
     "text": [
      "0\n",
      "0.5\n",
      "8\n"
     ]
    }
   ],
   "source": [
    "#(1)/\n",
    "#is division operator\n",
    "a=6\n",
    "b=3\n",
    "a/b\n",
    "#(2)%\n",
    "#is reminder of the division\n",
    "print(a%b)\n",
    "#(3)//\n",
    "#is floor division\n",
    "a=1\n",
    "b=2\n",
    "print(a/b)\n",
    "#(4)**\n",
    "#is exponential operator\n",
    "print(2**3)\n"
   ]
  },
  {
   "cell_type": "code",
   "execution_count": null,
   "id": "ede3a7f3-ed73-464a-8297-df26e4164aef",
   "metadata": {},
   "outputs": [],
   "source": [
    "Q4. Create a list of length 10 of your choice containing multiple types of data. Using for loop print the\n",
    "element and its data type.\n",
    "​\n",
    "p=[1,2,4,67.90,True,'nikky',7+8j,False,'santosh',8+9j]\n",
    "for i in p:\n",
    "    print(type(i))\n",
    "    print(i)\n",
    "    \n",
    "<class 'int'>\n",
    "1\n",
    "<class 'int'>\n",
    "2\n",
    "<class 'int'>\n",
    "4\n",
    "<class 'float'>\n",
    "67.9\n",
    "<class 'bool'>\n",
    "True\n",
    "<class 'str'>\n",
    "nikky\n",
    "<class 'complex'>\n",
    "(7+8j)\n",
    "<class 'bool'>\n",
    "False\n",
    "<class 'str'>\n",
    "santosh\n",
    "<class 'complex'>\n",
    "(8+9j)"
   ]
  },
  {
   "cell_type": "code",
   "execution_count": null,
   "id": "e80aa217-9277-4a2c-b3bc-3a8052bbf13f",
   "metadata": {},
   "outputs": [],
   "source": [
    "Q5. Using a while loop, verify if the number A is purely divisible by number B and if so then how many\n",
    "times it can be divisible."
   ]
  },
  {
   "cell_type": "code",
   "execution_count": 4,
   "id": "32db5017-32d7-43e3-a8ef-705f4a852090",
   "metadata": {},
   "outputs": [
    {
     "name": "stdin",
     "output_type": "stream",
     "text": [
      "enter the value of a 10\n",
      "enter the value of b 5\n"
     ]
    },
    {
     "name": "stdout",
     "output_type": "stream",
     "text": [
      "a is completelty divisible by b\n"
     ]
    }
   ],
   "source": [
    "a=int(input('enter the value of a'))\n",
    "b=int(input('enter the value of b'))\n",
    "while a%b==0:\n",
    "    print('a is completelty divisible by b')\n",
    "    break "
   ]
  },
  {
   "cell_type": "code",
   "execution_count": 8,
   "id": "ca8f3395-7741-4544-869a-36d5aaada4bc",
   "metadata": {},
   "outputs": [
    {
     "name": "stdout",
     "output_type": "stream",
     "text": [
      "1  is not divisible by 3\n",
      "2  is not divisible by 3\n",
      "3  is divisible by 3\n",
      "4  is not divisible by 3\n",
      "5  is not divisible by 3\n",
      "6  is divisible by 3\n",
      "7  is not divisible by 3\n",
      "8  is not divisible by 3\n",
      "9  is divisible by 3\n",
      "10  is not divisible by 3\n",
      "11  is not divisible by 3\n",
      "12  is divisible by 3\n",
      "13  is not divisible by 3\n",
      "14  is not divisible by 3\n",
      "15  is divisible by 3\n",
      "16  is not divisible by 3\n",
      "17  is not divisible by 3\n",
      "18  is divisible by 3\n",
      "19  is not divisible by 3\n",
      "20  is not divisible by 3\n",
      "21  is divisible by 3\n",
      "22  is not divisible by 3\n",
      "23  is not divisible by 3\n",
      "24  is divisible by 3\n",
      "25  is not divisible by 3\n"
     ]
    }
   ],
   "source": [
    "# Q6. Create a list containing 25 int type data. Using for loop and if-else condition print if the element is\n",
    "# divisible by 3 or not.\n",
    "\n",
    "g=[1,2,3,4,5,6,7,8,9,10,11,12,13,14,15,16,17,18,19,20,21,22,23,24,25]\n",
    "for i in g:\n",
    "    if i%3 == 0:\n",
    "        print(i,\" is divisible by 3\")\n",
    "    else :\n",
    "        print(i, \" is not divisible by 3\")"
   ]
  },
  {
   "cell_type": "code",
   "execution_count": null,
   "id": "4e598852-185e-43a7-8482-eb31255d11a5",
   "metadata": {},
   "outputs": [],
   "source": [
    "Q7. What do you understand about mutable and immutable data types? Give examples for both showing\n",
    "this property."
   ]
  },
  {
   "cell_type": "code",
   "execution_count": null,
   "id": "b1cb96c5-e11e-4670-902d-50b8a78292eb",
   "metadata": {},
   "outputs": [],
   "source": [
    "mutable data types:the data types that can be changed afteror modified even after being already existed\n",
    "ex.list,dict,\n",
    "immutable data types:the data types which can not be changed afteronce being defined\n",
    "ex.tuple,string"
   ]
  }
 ],
 "metadata": {
  "kernelspec": {
   "display_name": "Python 3 (ipykernel)",
   "language": "python",
   "name": "python3"
  },
  "language_info": {
   "codemirror_mode": {
    "name": "ipython",
    "version": 3
   },
   "file_extension": ".py",
   "mimetype": "text/x-python",
   "name": "python",
   "nbconvert_exporter": "python",
   "pygments_lexer": "ipython3",
   "version": "3.10.8"
  }
 },
 "nbformat": 4,
 "nbformat_minor": 5
}
